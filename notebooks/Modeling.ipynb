{
 "cells": [
  {
   "cell_type": "markdown",
   "metadata": {},
   "source": [
    "## Modeling (BERT + CNN)\n",
    "In this data challene, I use BERT and Kim's CNN for modeling. BERT (Bidirectional Encoder Representations from Transformers) is transformer based algorithm from Google in 2018. Unlike traditional context-free models, BERT can understand the different meaning of words in various contexts.  \n",
    "\n",
    "I used a pretrained base BERT. Transfer learning using pretrained model can reduce training time significantly and can get good result only with limited source of data. Since my desktop's performance is limited, and I cannot spend too much time for this challenge, the pretrainde model is the best option.  \n",
    "\n",
    "I attached the Kim's CNN architecture (2014) on the BERT embedding. CNN (Convolutional Neural Network) is the most popular deep learning algorithm for image data since it capture temporal and spatial dependencies better than Feed-Forward models. Because of this property, I tried Yoon Kim's CNN model in this project and it significantly increased the result (from 0.2 to 0.7 in F1 score on a validation set)."
   ]
  },
  {
   "cell_type": "code",
   "execution_count": 1,
   "metadata": {},
   "outputs": [],
   "source": [
    "# # necessary packages\n",
    "# !pip install tensorflow==2.0\n",
    "# !pip install tensorflow_hub\n",
    "# !pip install bert-for-tf2\n",
    "# !pip install sentencepiece\n",
    "\n",
    "# import the necessary packages\n",
    "import tensorflow as tf\n",
    "from tensorflow.keras.models import Sequential\n",
    "from tensorflow.keras.layers import BatchNormalization\n",
    "from tensorflow.keras.layers import Activation\n",
    "from tensorflow.keras.layers import Dropout\n",
    "from tensorflow.keras.layers import Dense\n",
    "from tensorflow.keras.layers import Flatten\n",
    "from tensorflow.keras.layers import Input\n",
    "from tensorflow.keras.layers import concatenate\n",
    "from tensorflow.keras.models import Model\n",
    "from tensorflow.keras.optimizers import Adam, SGD\n",
    "from tensorflow.keras.utils import to_categorical\n",
    "from tensorflow.keras.layers import Dense\n",
    "from tensorflow.keras import backend as K\n",
    "import tensorflow_hub as hub\n",
    "from tensorflow.keras.models import Model\n",
    "from tensorflow.keras.callbacks import ModelCheckpoint, EarlyStopping, ReduceLROnPlateau\n",
    "from tensorflow.keras.models import load_model\n",
    "from tensorflow.keras.layers import Conv2D, MaxPool2D\n",
    "from tensorflow.keras import regularizers\n",
    "import tensorflow_addons as tfa\n",
    "\n",
    "import csv\n",
    "import pandas as pd\n",
    "import numpy as np\n",
    "\n",
    "import bert\n",
    "FullTokenizer = bert.bert_tokenization.FullTokenizer\n",
    "\n",
    "bert_layer = hub.KerasLayer(\"https://tfhub.dev/tensorflow/bert_multi_cased_L-12_H-768_A-12/1\", trainable=False)\n",
    "vocab_file = bert_layer.resolved_object.vocab_file.asset_path.numpy()\n",
    "do_lower_case = bert_layer.resolved_object.do_lower_case.numpy()\n",
    "tokenizer = FullTokenizer(vocab_file, do_lower_case)\n",
    "\n",
    "# file pathes\n",
    "tr_un_sam_path = '../data/train_undersampled.csv'\n",
    "val_un_sam_path = '../data/val_undersampled.csv'\n",
    "test_path = '../data/test.csv'\n",
    "\n",
    "# bert input length\n",
    "max_seq_length = 128\n",
    "\n",
    "# train batch size\n",
    "batch = 128\n",
    "\n",
    "# number of CNN filters\n",
    "num_filters = 256"
   ]
  },
  {
   "cell_type": "code",
   "execution_count": 2,
   "metadata": {},
   "outputs": [],
   "source": [
    "def file_length(path, option=None):\n",
    "    '''\n",
    "    calculate file length\n",
    "    \n",
    "    1. option = 'positive':\n",
    "    return file length, positive number in over_18\n",
    "    2. else:\n",
    "    return file length\n",
    "    '''\n",
    "    with open(path, 'r', encoding='UTF-8', newline='') as csvfile:\n",
    "        f = csv.DictReader(csvfile)\n",
    "        length = 0\n",
    "        pos = 0\n",
    "        for line in f:\n",
    "            length += 1\n",
    "            if line['over_18'] == '1':\n",
    "                pos += 1\n",
    "    \n",
    "    if option == 'positive':\n",
    "        return length, pos\n",
    "    \n",
    "    else:\n",
    "        return length"
   ]
  },
  {
   "cell_type": "code",
   "execution_count": 3,
   "metadata": {},
   "outputs": [],
   "source": [
    "# bert preprocessing.\n",
    "# https://colab.research.google.com/drive/1hMLd5-r82FrnFnBub-B-fVW78Px4KPX1\n",
    "\n",
    "def get_masks(tokens, max_seq_length):\n",
    "    \"\"\"Mask for padding\"\"\"\n",
    "    if len(tokens)>max_seq_length:\n",
    "        raise IndexError(\"Token length more than max seq length!\")\n",
    "    return np.array([1]*len(tokens) + [0] * (max_seq_length - len(tokens)))\n",
    "\n",
    "\n",
    "def get_segments(tokens, max_seq_length):\n",
    "    \"\"\"Segments: 0 for the first sequence, 1 for the second\"\"\"\n",
    "    if len(tokens)>max_seq_length:\n",
    "        raise IndexError(\"Token length more than max seq length!\")\n",
    "    segments = []\n",
    "    current_segment_id = 0\n",
    "    for token in tokens:\n",
    "        segments.append(current_segment_id)\n",
    "        if token == \"[SEP]\":\n",
    "            current_segment_id = 1\n",
    "    return np.array(segments + [0] * (max_seq_length - len(tokens)))\n",
    "\n",
    "\n",
    "def get_ids(tokens, tokenizer, max_seq_length):\n",
    "    \"\"\"Token ids from Tokenizer vocab\"\"\"\n",
    "    token_ids = tokenizer.convert_tokens_to_ids(tokens)\n",
    "    input_ids = token_ids + [0] * (max_seq_length-len(token_ids))\n",
    "    return np.array(input_ids)\n",
    "\n",
    "\n",
    "def bert_preprocessing(string):\n",
    "    tokens = tokenizer.tokenize(string)\n",
    "    tokens = [\"[CLS]\"] + tokens + [\"[SEP]\"]\n",
    "\n",
    "    input_ids = get_ids(tokens, tokenizer, max_seq_length)\n",
    "    input_masks = get_masks(tokens, max_seq_length)\n",
    "    input_segments = get_segments(tokens, max_seq_length)\n",
    "    \n",
    "    return input_ids, input_masks, input_segments"
   ]
  },
  {
   "cell_type": "code",
   "execution_count": 4,
   "metadata": {},
   "outputs": [],
   "source": [
    "# batch generator. Edited codes from\n",
    "# https://medium.com/analytics-vidhya/train-keras-model-with-large-dataset-batch-training-6b3099fdf366\n",
    "\n",
    "def batch_generator(path, batch_size=1, steps=100):\n",
    "    idx=0\n",
    "    while True: \n",
    "        if idx<steps:\n",
    "            idx+=1\n",
    "        else:\n",
    "            idx=1\n",
    "        \n",
    "        yield load_process_data(path,idx-1,batch_size)## Yields data\n",
    "\n",
    "def load_process_data(path, idx, batch_size):\n",
    "    df = pd.read_csv(path, skiprows=range(1, idx*batch_size), nrows=batch_size)\n",
    "    df.dropna(inplace=True)\n",
    "    x = df.iloc[:,1:]\n",
    "    x['up_votes'] = x['up_votes']/10000\n",
    "    x['year'] = x['year']/2016\n",
    "    x['month'] = x['month']/12\n",
    "    x['day'] = x['day']/31\n",
    "    x['weekday'] = x['weekday']/7\n",
    "    x['hour'] = x['hour']/24\n",
    "    x['title'] = x['title'].apply(bert_preprocessing)\n",
    "    x[['input_ids', 'input_masks', 'input_segments']] = pd.DataFrame(x['title'].tolist(), index=x.index)\n",
    "    del x['title'], x['category']\n",
    "    y = df.iloc[:,0]\n",
    "    return [np.array(x.iloc[:,:6]), np.array(x.iloc[:,6]), np.stack(x.iloc[:,7], axis=0), \n",
    "            np.stack(x.iloc[:,8], axis=0), np.stack(x.iloc[:,9], axis=0)], np.array(y)"
   ]
  },
  {
   "cell_type": "code",
   "execution_count": 5,
   "metadata": {},
   "outputs": [],
   "source": [
    "# define metrics\n",
    "\n",
    "def precision(y_true, y_pred):\n",
    "    tp = K.sum(K.round(K.clip(y_true * y_pred, 0, 1)))\n",
    "    tp_fp = K.sum(K.round(K.clip(y_pred, 0, 1)))\n",
    "    precision = tp / (tp_fp + K.epsilon())\n",
    "    return precision\n",
    "\n",
    "def recall(y_true, y_pred):\n",
    "    tp = K.sum(K.round(K.clip(y_true * y_pred, 0, 1)))\n",
    "    tp_fn = K.sum(K.round(K.clip(y_true, 0, 1)))\n",
    "    recall = tp / (tp_fn + K.epsilon())\n",
    "    return recall\n",
    "\n",
    "def f1(y_true, y_pred):\n",
    "    tp = K.sum(K.round(K.clip(y_true * y_pred, 0, 1)))\n",
    "    tp_fp = K.sum(K.round(K.clip(y_pred, 0, 1)))\n",
    "    tp_fn = K.sum(K.round(K.clip(y_true, 0, 1)))\n",
    "    precision = tp / (tp_fp + K.epsilon())\n",
    "    recall = tp / (tp_fn + K.epsilon())\n",
    "    f1 = 2*(precision*recall)/(precision+recall+K.epsilon())\n",
    "    return f1"
   ]
  },
  {
   "cell_type": "code",
   "execution_count": 6,
   "metadata": {},
   "outputs": [
    {
     "name": "stdout",
     "output_type": "stream",
     "text": [
      "{0: 0.5284591194968553, 1: 9.28453038674033}\n"
     ]
    }
   ],
   "source": [
    "tr_len, tr_pos_len = file_length(tr_un_sam_path, 'positive')\n",
    "val_len = file_length(val_un_sam_path)\n",
    "test_len = file_length(test_path)\n",
    "\n",
    "tr_iter = tr_len//batch + 1\n",
    "val_iter = val_len//batch + 1\n",
    "test_iter = test_len//batch + 1\n",
    "\n",
    "weight_for_0 = (1 / (tr_len-tr_pos_len))*(tr_len)/2.0\n",
    "weight_for_1 = (1 / tr_pos_len)*(tr_len)/2.0\n",
    "\n",
    "class_weight = {0: weight_for_0, 1: weight_for_1}\n",
    "print(class_weight)"
   ]
  },
  {
   "cell_type": "code",
   "execution_count": 12,
   "metadata": {},
   "outputs": [
    {
     "name": "stdout",
     "output_type": "stream",
     "text": [
      "WARNING:tensorflow:`period` argument is deprecated. Please use `save_freq` to specify the frequency in number of samples seen.\n"
     ]
    },
    {
     "name": "stderr",
     "output_type": "stream",
     "text": [
      "WARNING:tensorflow:`period` argument is deprecated. Please use `save_freq` to specify the frequency in number of samples seen.\n"
     ]
    }
   ],
   "source": [
    "# define input shapes\n",
    "input_numeric = tf.keras.layers.Input(shape=(6,), dtype=tf.int32,\n",
    "                                    name='input_numeric')\n",
    "input_categorical = tf.keras.layers.Input(shape=(1,), dtype=tf.int32,\n",
    "                                    name='input_category')\n",
    "input_word_ids = tf.keras.layers.Input(shape=(max_seq_length,), dtype=tf.int32,\n",
    "                                    name=\"input_word_ids\")\n",
    "input_mask = tf.keras.layers.Input(shape=(max_seq_length,), dtype=tf.int32,\n",
    "                                    name=\"input_mask\")\n",
    "segment_ids = tf.keras.layers.Input(shape=(max_seq_length,), dtype=tf.int32,\n",
    "                                    name=\"segment_ids\")\n",
    "\n",
    "#bert sequence embedding\n",
    "bert_emb = bert_layer([input_word_ids, input_mask, segment_ids])[1]\n",
    "bert_emb = tf.reshape(bert_emb, [-1, max_seq_length, 768, 1])\n",
    "\n",
    "#\n",
    "xavier_initializer = tf.keras.initializers.GlorotNormal(seed=777)\n",
    "\n",
    "# It is Kim's CNN. I added batch nomailization, activation, and dropout\n",
    "conv_0 = Conv2D(num_filters, kernel_size=(3, 768), activation='relu', \n",
    "                kernel_regularizer=regularizers.l1_l2(l1=0.03, l2=0.1), kernel_initializer=xavier_initializer)(bert_emb)\n",
    "conv_1 = Conv2D(num_filters, kernel_size=(5, 768), activation='relu', \n",
    "                kernel_regularizer=regularizers.l1_l2(l1=0.03, l2=0.1), kernel_initializer=xavier_initializer)(bert_emb)\n",
    "conv_2 = Conv2D(num_filters, kernel_size=(7, 768), activation='relu', \n",
    "                kernel_regularizer=regularizers.l1_l2(l1=0.03, l2=0.1), kernel_initializer=xavier_initializer)(bert_emb)\n",
    "\n",
    "maxpool_0 = MaxPool2D(pool_size=(max_seq_length - 3 + 1, 1), padding='valid')(conv_0)\n",
    "maxpool_1 = MaxPool2D(pool_size=(max_seq_length - 5 + 1, 1), padding='valid')(conv_1)\n",
    "maxpool_2 = MaxPool2D(pool_size=(max_seq_length - 7 + 1, 1), padding='valid')(conv_2)\n",
    "\n",
    "conv_concat = concatenate([maxpool_0, maxpool_1, maxpool_2], axis=1)\n",
    "flatten = Flatten()(conv_concat)\n",
    "flatten = BatchNormalization()(flatten)\n",
    "flatten = Activation('relu')(flatten)\n",
    "flatten = Dropout(0.3)(flatten)\n",
    "\n",
    "# numeric inputs\n",
    "x = input_numeric\n",
    "x = Dense(6, kernel_initializer=xavier_initializer)(x)\n",
    "x = BatchNormalization()(x)\n",
    "x = Activation('relu')(x)\n",
    "\n",
    "# categorical inputs\n",
    "y = input_categorical\n",
    "y = tf.keras.layers.Embedding(len(word2id), 50)(y)\n",
    "y = Flatten()(y)\n",
    "\n",
    "concated = concatenate([x, y, flatten])\n",
    "concated = Dense(128, kernel_regularizer=regularizers.l1_l2(l1=0.1, l2=0.1), \n",
    "                 kernel_initializer=xavier_initializer)(concated)\n",
    "concated = BatchNormalization()(concated)\n",
    "concated = Activation('relu')(concated)\n",
    "concated = Dropout(0.3)(concated)\n",
    "concated = Dense(16, kernel_regularizer=regularizers.l1_l2(l1=0.1, l2=0.1), \n",
    "                 kernel_initializer=xavier_initializer)(concated)\n",
    "concated = BatchNormalization()(concated)\n",
    "concated = Activation('relu')(concated)\n",
    "concated = Dropout(0.2)(concated)\n",
    "output = Dense(1, activation='sigmoid')(concated)\n",
    "\n",
    "adam = Adam(lr=1e-3)\n",
    "model = tf.keras.models.Model(inputs=[input_numeric, input_categorical, input_word_ids, input_mask, segment_ids], outputs=output)\n",
    "model.compile(loss = 'binary_crossentropy',\n",
    "              metrics=['accuracy', recall, f1], \n",
    "              optimizer=adam)\n",
    "\n",
    "checkpoint = ModelCheckpoint('../models/best_model.hdf5', monitor='val_loss', save_best_only=True, period=1)\n",
    "earlystopping = EarlyStopping(min_delta=1e-3, patience=10)\n",
    "reduce_lr = ReduceLROnPlateau(factor=0.3, patience=1, min_delta=1e-3)"
   ]
  },
  {
   "cell_type": "code",
   "execution_count": 13,
   "metadata": {
    "scrolled": true
   },
   "outputs": [
    {
     "name": "stdout",
     "output_type": "stream",
     "text": [
      "[INFO] training model...\n",
      "WARNING:tensorflow:sample_weight modes were coerced from\n",
      "  ...\n",
      "    to  \n",
      "  ['...']\n"
     ]
    },
    {
     "name": "stderr",
     "output_type": "stream",
     "text": [
      "WARNING:tensorflow:sample_weight modes were coerced from\n",
      "  ...\n",
      "    to  \n",
      "  ['...']\n"
     ]
    },
    {
     "name": "stdout",
     "output_type": "stream",
     "text": [
      "WARNING:tensorflow:sample_weight modes were coerced from\n",
      "  ...\n",
      "    to  \n",
      "  ['...']\n"
     ]
    },
    {
     "name": "stderr",
     "output_type": "stream",
     "text": [
      "WARNING:tensorflow:sample_weight modes were coerced from\n",
      "  ...\n",
      "    to  \n",
      "  ['...']\n"
     ]
    },
    {
     "name": "stdout",
     "output_type": "stream",
     "text": [
      "Train for 27 steps, validate for 10 steps\n",
      "Epoch 1/200\n",
      "27/27 - 64s - loss: 377.7908 - accuracy: 0.7742 - recall: 0.5820 - f1: 0.2183 - val_loss: 254.1276 - val_accuracy: 0.8077 - val_recall: 0.5725 - val_f1: 0.2321\n",
      "Epoch 2/200\n",
      "27/27 - 58s - loss: 179.3136 - accuracy: 0.7719 - recall: 0.6853 - f1: 0.2473 - val_loss: 121.5267 - val_accuracy: 0.9391 - val_recall: 0.1769 - val_f1: 0.2052\n",
      "Epoch 3/200\n",
      "27/27 - 58s - loss: 88.2863 - accuracy: 0.7609 - recall: 0.6617 - f1: 0.2329 - val_loss: 69.1055 - val_accuracy: 0.9451 - val_recall: 0.0000e+00 - val_f1: 0.0000e+00\n",
      "Epoch 4/200\n",
      "27/27 - 58s - loss: 52.3682 - accuracy: 0.7841 - recall: 0.7069 - f1: 0.2622 - val_loss: 47.5299 - val_accuracy: 0.9451 - val_recall: 0.0000e+00 - val_f1: 0.0000e+00\n",
      "Epoch 5/200\n",
      "27/27 - 58s - loss: 40.1953 - accuracy: 0.7519 - recall: 0.6852 - f1: 0.2317 - val_loss: 40.5343 - val_accuracy: 0.9451 - val_recall: 0.0000e+00 - val_f1: 0.0000e+00\n",
      "Epoch 6/200\n",
      "27/27 - 58s - loss: 35.0546 - accuracy: 0.7421 - recall: 0.7358 - f1: 0.2420 - val_loss: 34.0947 - val_accuracy: 0.9451 - val_recall: 0.0000e+00 - val_f1: 0.0000e+00\n",
      "Epoch 7/200\n",
      "27/27 - 58s - loss: 30.1042 - accuracy: 0.7668 - recall: 0.7022 - f1: 0.2507 - val_loss: 31.5143 - val_accuracy: 0.9451 - val_recall: 0.0000e+00 - val_f1: 0.0000e+00\n",
      "Epoch 8/200\n",
      "27/27 - 58s - loss: 28.4441 - accuracy: 0.7626 - recall: 0.7230 - f1: 0.2540 - val_loss: 29.1739 - val_accuracy: 0.9451 - val_recall: 0.0000e+00 - val_f1: 0.0000e+00\n",
      "Epoch 9/200\n",
      "27/27 - 58s - loss: 25.0825 - accuracy: 0.7796 - recall: 0.7550 - f1: 0.2681 - val_loss: 23.4603 - val_accuracy: 0.9451 - val_recall: 0.0000e+00 - val_f1: 0.0000e+00\n",
      "Epoch 10/200\n",
      "27/27 - 58s - loss: 23.9510 - accuracy: 0.7760 - recall: 0.7002 - f1: 0.2565 - val_loss: 21.6093 - val_accuracy: 0.9451 - val_recall: 0.0000e+00 - val_f1: 0.0000e+00\n",
      "Epoch 11/200\n",
      "27/27 - 58s - loss: 17.8503 - accuracy: 0.7820 - recall: 0.7472 - f1: 0.2804 - val_loss: 16.5742 - val_accuracy: 0.9451 - val_recall: 0.0000e+00 - val_f1: 0.0000e+00\n",
      "Epoch 12/200\n",
      "27/27 - 58s - loss: 15.7167 - accuracy: 0.7674 - recall: 0.7521 - f1: 0.2585 - val_loss: 16.3446 - val_accuracy: 0.9451 - val_recall: 0.0000e+00 - val_f1: 0.0000e+00\n",
      "Epoch 13/200\n",
      "27/27 - 56s - loss: 17.7068 - accuracy: 0.7564 - recall: 0.7172 - f1: 0.2521 - val_loss: 17.2139 - val_accuracy: 0.9451 - val_recall: 0.0000e+00 - val_f1: 0.0000e+00\n",
      "Epoch 14/200\n",
      "27/27 - 58s - loss: 9.3409 - accuracy: 0.7826 - recall: 0.7556 - f1: 0.2776 - val_loss: 6.5310 - val_accuracy: 0.9451 - val_recall: 0.0000e+00 - val_f1: 0.0000e+00\n",
      "Epoch 15/200\n",
      "27/27 - 58s - loss: 5.6968 - accuracy: 0.8037 - recall: 0.7596 - f1: 0.2963 - val_loss: 5.7785 - val_accuracy: 0.9451 - val_recall: 0.0000e+00 - val_f1: 0.0000e+00\n",
      "Epoch 16/200\n",
      "27/27 - 58s - loss: 5.2978 - accuracy: 0.7903 - recall: 0.7534 - f1: 0.2822 - val_loss: 5.1450 - val_accuracy: 0.9468 - val_recall: 0.0267 - val_f1: 0.0468\n",
      "Epoch 17/200\n",
      "27/27 - 58s - loss: 4.7945 - accuracy: 0.8120 - recall: 0.7743 - f1: 0.3023 - val_loss: 4.7636 - val_accuracy: 0.9494 - val_recall: 0.0569 - val_f1: 0.0994\n",
      "Epoch 18/200\n",
      "27/27 - 57s - loss: 4.4920 - accuracy: 0.8221 - recall: 0.7013 - f1: 0.2995 - val_loss: 4.7805 - val_accuracy: 0.9459 - val_recall: 0.0167 - val_f1: 0.0286\n",
      "Epoch 19/200\n",
      "27/27 - 58s - loss: 2.8526 - accuracy: 0.8284 - recall: 0.7645 - f1: 0.3241 - val_loss: 2.2847 - val_accuracy: 0.9502 - val_recall: 0.0644 - val_f1: 0.1105\n",
      "Epoch 20/200\n",
      "27/27 - 58s - loss: 2.0046 - accuracy: 0.8355 - recall: 0.8046 - f1: 0.3447 - val_loss: 2.1256 - val_accuracy: 0.9554 - val_recall: 0.4528 - val_f1: 0.4563\n",
      "Epoch 21/200\n",
      "27/27 - 58s - loss: 1.8395 - accuracy: 0.8412 - recall: 0.8019 - f1: 0.3757 - val_loss: 1.9624 - val_accuracy: 0.9708 - val_recall: 0.4806 - val_f1: 0.5346\n",
      "Epoch 22/200\n",
      "27/27 - 58s - loss: 1.8005 - accuracy: 0.8438 - recall: 0.8624 - f1: 0.3872 - val_loss: 1.9599 - val_accuracy: 0.9725 - val_recall: 0.4097 - val_f1: 0.5051\n",
      "Epoch 23/200\n",
      "27/27 - 56s - loss: 1.7451 - accuracy: 0.8453 - recall: 0.8273 - f1: 0.3716 - val_loss: 1.9832 - val_accuracy: 0.9691 - val_recall: 0.3639 - val_f1: 0.4715\n",
      "Epoch 24/200\n",
      "27/27 - 58s - loss: 1.2540 - accuracy: 0.8486 - recall: 0.8927 - f1: 0.4050 - val_loss: 1.2371 - val_accuracy: 0.9725 - val_recall: 0.4431 - val_f1: 0.5152\n",
      "Epoch 25/200\n",
      "27/27 - 58s - loss: 0.9913 - accuracy: 0.8608 - recall: 0.9062 - f1: 0.4252 - val_loss: 1.1536 - val_accuracy: 0.9708 - val_recall: 0.3486 - val_f1: 0.4269\n",
      "Epoch 26/200\n",
      "27/27 - 58s - loss: 0.9059 - accuracy: 0.8769 - recall: 0.8821 - f1: 0.4421 - val_loss: 1.1040 - val_accuracy: 0.9717 - val_recall: 0.3986 - val_f1: 0.4935\n",
      "Epoch 27/200\n",
      "27/27 - 58s - loss: 0.8926 - accuracy: 0.8694 - recall: 0.9174 - f1: 0.4451 - val_loss: 1.0518 - val_accuracy: 0.9742 - val_recall: 0.4656 - val_f1: 0.5446\n",
      "Epoch 28/200\n",
      "27/27 - 59s - loss: 0.8739 - accuracy: 0.8697 - recall: 0.9048 - f1: 0.4321 - val_loss: 1.0348 - val_accuracy: 0.9717 - val_recall: 0.4756 - val_f1: 0.5317\n",
      "Epoch 29/200\n",
      "27/27 - 58s - loss: 0.8922 - accuracy: 0.8575 - recall: 0.8777 - f1: 0.4084 - val_loss: 1.0081 - val_accuracy: 0.9554 - val_recall: 0.5381 - val_f1: 0.4741\n",
      "Epoch 30/200\n",
      "27/27 - 58s - loss: 0.8847 - accuracy: 0.8703 - recall: 0.8987 - f1: 0.4423 - val_loss: 0.9871 - val_accuracy: 0.9691 - val_recall: 0.4756 - val_f1: 0.5195\n",
      "Epoch 31/200\n",
      "27/27 - 58s - loss: 0.8603 - accuracy: 0.8778 - recall: 0.8963 - f1: 0.4432 - val_loss: 0.9638 - val_accuracy: 0.9579 - val_recall: 0.4992 - val_f1: 0.4574\n",
      "Epoch 32/200\n",
      "27/27 - 58s - loss: 0.8273 - accuracy: 0.8804 - recall: 0.9167 - f1: 0.4583 - val_loss: 0.9318 - val_accuracy: 0.9511 - val_recall: 0.5103 - val_f1: 0.4521\n",
      "Epoch 33/200\n",
      "27/27 - 56s - loss: 0.8495 - accuracy: 0.8614 - recall: 0.9209 - f1: 0.4263 - val_loss: 0.9426 - val_accuracy: 0.7682 - val_recall: 0.7958 - val_f1: 0.2581\n",
      "Epoch 34/200\n",
      "27/27 - 58s - loss: 0.7040 - accuracy: 0.8578 - recall: 0.9162 - f1: 0.4220 - val_loss: 0.7121 - val_accuracy: 0.9296 - val_recall: 0.6064 - val_f1: 0.4373\n",
      "Epoch 35/200\n",
      "27/27 - 58s - loss: 0.6139 - accuracy: 0.8816 - recall: 0.9145 - f1: 0.4633 - val_loss: 0.6947 - val_accuracy: 0.9322 - val_recall: 0.5814 - val_f1: 0.4247\n",
      "Epoch 36/200\n",
      "27/27 - 58s - loss: 0.5994 - accuracy: 0.8843 - recall: 0.9055 - f1: 0.4714 - val_loss: 0.6861 - val_accuracy: 0.9425 - val_recall: 0.5203 - val_f1: 0.4165\n",
      "Epoch 37/200\n",
      "27/27 - 58s - loss: 0.5908 - accuracy: 0.8855 - recall: 0.9200 - f1: 0.4719 - val_loss: 0.6742 - val_accuracy: 0.9219 - val_recall: 0.5675 - val_f1: 0.3806\n",
      "Epoch 38/200\n",
      "27/27 - 58s - loss: 0.5848 - accuracy: 0.8876 - recall: 0.9110 - f1: 0.4787 - val_loss: 0.6641 - val_accuracy: 0.9270 - val_recall: 0.5564 - val_f1: 0.3861\n",
      "Epoch 39/200\n",
      "27/27 - 58s - loss: 0.5833 - accuracy: 0.8941 - recall: 0.9205 - f1: 0.4902 - val_loss: 0.6548 - val_accuracy: 0.9176 - val_recall: 0.5886 - val_f1: 0.3794\n",
      "Epoch 40/200\n",
      "27/27 - 58s - loss: 0.5699 - accuracy: 0.8983 - recall: 0.9249 - f1: 0.5009 - val_loss: 0.6421 - val_accuracy: 0.8996 - val_recall: 0.6636 - val_f1: 0.3764\n",
      "Epoch 41/200\n",
      "27/27 - 58s - loss: 0.5702 - accuracy: 0.8876 - recall: 0.9299 - f1: 0.4841 - val_loss: 0.6411 - val_accuracy: 0.8790 - val_recall: 0.6847 - val_f1: 0.3518\n",
      "Epoch 42/200\n",
      "27/27 - 58s - loss: 0.5151 - accuracy: 0.8944 - recall: 0.9418 - f1: 0.4935 - val_loss: 0.5748 - val_accuracy: 0.8953 - val_recall: 0.6736 - val_f1: 0.3769\n",
      "Epoch 43/200\n",
      "27/27 - 58s - loss: 0.5060 - accuracy: 0.8992 - recall: 0.9319 - f1: 0.5092 - val_loss: 0.5682 - val_accuracy: 0.8953 - val_recall: 0.6736 - val_f1: 0.3772\n",
      "Epoch 44/200\n",
      "27/27 - 58s - loss: 0.4976 - accuracy: 0.8965 - recall: 0.9319 - f1: 0.4995 - val_loss: 0.5622 - val_accuracy: 0.8901 - val_recall: 0.6736 - val_f1: 0.3656\n",
      "Epoch 45/200\n",
      "27/27 - 57s - loss: 0.4937 - accuracy: 0.8926 - recall: 0.9083 - f1: 0.4850 - val_loss: 0.5671 - val_accuracy: 0.8944 - val_recall: 0.6736 - val_f1: 0.3752\n",
      "Epoch 46/200\n",
      "27/27 - 58s - loss: 0.4811 - accuracy: 0.8971 - recall: 0.9377 - f1: 0.5009 - val_loss: 0.5443 - val_accuracy: 0.8798 - val_recall: 0.6736 - val_f1: 0.3504\n",
      "Epoch 47/200\n",
      "27/27 - 58s - loss: 0.4767 - accuracy: 0.8950 - recall: 0.9267 - f1: 0.5036 - val_loss: 0.5414 - val_accuracy: 0.8781 - val_recall: 0.6736 - val_f1: 0.3487\n",
      "Epoch 48/200\n",
      "27/27 - 58s - loss: 0.4845 - accuracy: 0.8938 - recall: 0.9125 - f1: 0.4859 - val_loss: 0.5399 - val_accuracy: 0.8764 - val_recall: 0.7347 - val_f1: 0.3560\n"
     ]
    },
    {
     "name": "stdout",
     "output_type": "stream",
     "text": [
      "Epoch 49/200\n",
      "27/27 - 58s - loss: 0.4753 - accuracy: 0.8920 - recall: 0.9356 - f1: 0.4900 - val_loss: 0.5397 - val_accuracy: 0.8721 - val_recall: 0.7347 - val_f1: 0.3488\n",
      "Epoch 50/200\n",
      "27/27 - 58s - loss: 0.4754 - accuracy: 0.8882 - recall: 0.9194 - f1: 0.4894 - val_loss: 0.5340 - val_accuracy: 0.8712 - val_recall: 0.7347 - val_f1: 0.3475\n",
      "Epoch 51/200\n",
      "27/27 - 58s - loss: 0.4620 - accuracy: 0.8876 - recall: 0.9242 - f1: 0.4859 - val_loss: 0.5332 - val_accuracy: 0.8704 - val_recall: 0.7347 - val_f1: 0.3461\n",
      "Epoch 52/200\n",
      "27/27 - 58s - loss: 0.4674 - accuracy: 0.8968 - recall: 0.9242 - f1: 0.4950 - val_loss: 0.5316 - val_accuracy: 0.8687 - val_recall: 0.7347 - val_f1: 0.3436\n",
      "Epoch 53/200\n",
      "27/27 - 56s - loss: 0.4598 - accuracy: 0.8938 - recall: 0.9312 - f1: 0.4964 - val_loss: 0.5318 - val_accuracy: 0.8644 - val_recall: 0.7347 - val_f1: 0.3384\n",
      "Epoch 54/200\n",
      "27/27 - 58s - loss: 0.4649 - accuracy: 0.8989 - recall: 0.9303 - f1: 0.5040 - val_loss: 0.5313 - val_accuracy: 0.8644 - val_recall: 0.7347 - val_f1: 0.3384\n",
      "Epoch 55/200\n",
      "27/27 - 58s - loss: 0.4649 - accuracy: 0.8896 - recall: 0.9298 - f1: 0.4904 - val_loss: 0.5310 - val_accuracy: 0.8635 - val_recall: 0.7347 - val_f1: 0.3374\n",
      "Epoch 56/200\n",
      "27/27 - 58s - loss: 0.4527 - accuracy: 0.8962 - recall: 0.9361 - f1: 0.5043 - val_loss: 0.5309 - val_accuracy: 0.8635 - val_recall: 0.7347 - val_f1: 0.3374\n",
      "Epoch 57/200\n",
      "27/27 - 56s - loss: 0.4683 - accuracy: 0.8873 - recall: 0.9355 - f1: 0.4829 - val_loss: 0.5310 - val_accuracy: 0.8627 - val_recall: 0.7347 - val_f1: 0.3359\n",
      "Epoch 58/200\n",
      "27/27 - 57s - loss: 0.4665 - accuracy: 0.8938 - recall: 0.9137 - f1: 0.4931 - val_loss: 0.5311 - val_accuracy: 0.8627 - val_recall: 0.7347 - val_f1: 0.3359\n",
      "Epoch 59/200\n",
      "27/27 - 57s - loss: 0.4554 - accuracy: 0.8974 - recall: 0.9418 - f1: 0.5051 - val_loss: 0.5312 - val_accuracy: 0.8627 - val_recall: 0.7347 - val_f1: 0.3359\n",
      "Epoch 60/200\n",
      "27/27 - 56s - loss: 0.4737 - accuracy: 0.8998 - recall: 0.9257 - f1: 0.5006 - val_loss: 0.5314 - val_accuracy: 0.8627 - val_recall: 0.7347 - val_f1: 0.3359\n",
      "Epoch 61/200\n",
      "27/27 - 56s - loss: 0.4718 - accuracy: 0.8917 - recall: 0.9161 - f1: 0.4860 - val_loss: 0.5313 - val_accuracy: 0.8609 - val_recall: 0.7347 - val_f1: 0.3339\n",
      "Epoch 62/200\n",
      "27/27 - 56s - loss: 0.4710 - accuracy: 0.8929 - recall: 0.9205 - f1: 0.4880 - val_loss: 0.5313 - val_accuracy: 0.8618 - val_recall: 0.7347 - val_f1: 0.3351\n"
     ]
    }
   ],
   "source": [
    "# train the model\n",
    "print(\"[INFO] training model...\")\n",
    "history = model.fit_generator(\n",
    "            batch_generator(tr_un_sam_path, batch, tr_iter),\n",
    "            steps_per_epoch = tr_iter,\n",
    "            validation_data = batch_generator(val_un_sam_path, batch, val_iter),\n",
    "            validation_steps = val_iter,\n",
    "            class_weight = class_weight,\n",
    "            verbose = 2,\n",
    "            callbacks = [checkpoint, earlystopping, reduce_lr],\n",
    "            epochs=200)"
   ]
  },
  {
   "cell_type": "markdown",
   "metadata": {},
   "source": [
    "The best model succeeds to tell more than 70% of over_18 on validation set. F1 score is much lower than recall since it has a lot of false positives. I tried a focal loss to solve this problem; however, it generated worse recall scores than the weighted binary crossentropy and higher score in F1 (both around 0.5). Choosing which one is better is depending on the model's purpose and I choose the higher recall score for this challge. The following charts show that loss and metrics for each iteration."
   ]
  },
  {
   "cell_type": "code",
   "execution_count": 15,
   "metadata": {},
   "outputs": [
    {
     "data": {
      "image/png": "[encoded data removed]",
      "text/plain": [
       "<Figure size 1080x1080 with 4 Axes>"
      ]
     },
     "metadata": {
      "needs_background": "light"
     },
     "output_type": "display_data"
    }
   ],
   "source": [
    "import matplotlib.pyplot as plt\n",
    "epoch = len(history.history['loss'])\n",
    "plt.figure(figsize=(15,15))\n",
    "plt.subplot(321)\n",
    "plt.plot(range(epoch), history.history['loss'], label='training loss')\n",
    "plt.plot(range(epoch), history.history['val_loss'], label='validation loss')\n",
    "plt.xlabel('epoch')\n",
    "plt.ylabel('loss (log scale)')\n",
    "plt.yscale('log')\n",
    "plt.legend()\n",
    "\n",
    "plt.subplot(322)\n",
    "plt.plot(range(epoch), history.history['accuracy'], label='training accuracy')\n",
    "plt.plot(range(epoch), history.history['val_accuracy'], label='validation accuracy')\n",
    "plt.xlabel('epoch')\n",
    "plt.ylabel('accuracy')\n",
    "plt.legend()\n",
    "\n",
    "plt.subplot(323)\n",
    "plt.plot(range(epoch), history.history['recall'], label='training recall')\n",
    "plt.plot(range(epoch), history.history['val_recall'], label='validation recall')\n",
    "plt.xlabel('epoch')\n",
    "plt.ylabel('recall')\n",
    "plt.legend()\n",
    "\n",
    "plt.subplot(324)\n",
    "plt.plot(range(epoch), history.history['f1'], label='training f1')\n",
    "plt.plot(range(epoch), history.history['val_f1'], label='validation f1')\n",
    "plt.xlabel('epoch')\n",
    "plt.ylabel('f1')\n",
    "plt.legend()\n",
    "\n",
    "plt.show()"
   ]
  },
  {
   "cell_type": "code",
   "execution_count": 8,
   "metadata": {},
   "outputs": [
    {
     "name": "stdout",
     "output_type": "stream",
     "text": [
      "Model: \"model_1\"\n",
      "__________________________________________________________________________________________________\n",
      "Layer (type)                    Output Shape         Param #     Connected to                     \n",
      "==================================================================================================\n",
      "input_word_ids (InputLayer)     [(None, 128)]        0                                            \n",
      "__________________________________________________________________________________________________\n",
      "input_mask (InputLayer)         [(None, 128)]        0                                            \n",
      "__________________________________________________________________________________________________\n",
      "segment_ids (InputLayer)        [(None, 128)]        0                                            \n",
      "__________________________________________________________________________________________________\n",
      "keras_layer (KerasLayer)        [(None, 768), (None, 177853441   input_word_ids[0][0]             \n",
      "                                                                 input_mask[0][0]                 \n",
      "                                                                 segment_ids[0][0]                \n",
      "__________________________________________________________________________________________________\n",
      "tf_op_layer_Reshape_1 (TensorFl (None, 128, 768, 1)  0           keras_layer[0][1]                \n",
      "__________________________________________________________________________________________________\n",
      "conv2d_3 (Conv2D)               (None, 126, 1, 256)  590080      tf_op_layer_Reshape_1[0][0]      \n",
      "__________________________________________________________________________________________________\n",
      "conv2d_4 (Conv2D)               (None, 124, 1, 256)  983296      tf_op_layer_Reshape_1[0][0]      \n",
      "__________________________________________________________________________________________________\n",
      "conv2d_5 (Conv2D)               (None, 122, 1, 256)  1376512     tf_op_layer_Reshape_1[0][0]      \n",
      "__________________________________________________________________________________________________\n",
      "max_pooling2d_3 (MaxPooling2D)  (None, 1, 1, 256)    0           conv2d_3[0][0]                   \n",
      "__________________________________________________________________________________________________\n",
      "max_pooling2d_4 (MaxPooling2D)  (None, 1, 1, 256)    0           conv2d_4[0][0]                   \n",
      "__________________________________________________________________________________________________\n",
      "max_pooling2d_5 (MaxPooling2D)  (None, 1, 1, 256)    0           conv2d_5[0][0]                   \n",
      "__________________________________________________________________________________________________\n",
      "concatenate_2 (Concatenate)     (None, 3, 1, 256)    0           max_pooling2d_3[0][0]            \n",
      "                                                                 max_pooling2d_4[0][0]            \n",
      "                                                                 max_pooling2d_5[0][0]            \n",
      "__________________________________________________________________________________________________\n",
      "input_numeric (InputLayer)      [(None, 6)]          0                                            \n",
      "__________________________________________________________________________________________________\n",
      "flatten_2 (Flatten)             (None, 768)          0           concatenate_2[0][0]              \n",
      "__________________________________________________________________________________________________\n",
      "dense_4 (Dense)                 (None, 6)            42          input_numeric[0][0]              \n",
      "__________________________________________________________________________________________________\n",
      "input_category (InputLayer)     [(None, 1)]          0                                            \n",
      "__________________________________________________________________________________________________\n",
      "batch_normalization_4 (BatchNor (None, 768)          3072        flatten_2[0][0]                  \n",
      "__________________________________________________________________________________________________\n",
      "batch_normalization_5 (BatchNor (None, 6)            24          dense_4[0][0]                    \n",
      "__________________________________________________________________________________________________\n",
      "embedding_1 (Embedding)         (None, 1, 50)        4291900     input_category[0][0]             \n",
      "__________________________________________________________________________________________________\n",
      "activation_4 (Activation)       (None, 768)          0           batch_normalization_4[0][0]      \n",
      "__________________________________________________________________________________________________\n",
      "activation_5 (Activation)       (None, 6)            0           batch_normalization_5[0][0]      \n",
      "__________________________________________________________________________________________________\n",
      "flatten_3 (Flatten)             (None, 50)           0           embedding_1[0][0]                \n",
      "__________________________________________________________________________________________________\n",
      "dropout_3 (Dropout)             (None, 768)          0           activation_4[0][0]               \n",
      "__________________________________________________________________________________________________\n",
      "concatenate_3 (Concatenate)     (None, 824)          0           activation_5[0][0]               \n",
      "                                                                 flatten_3[0][0]                  \n",
      "                                                                 dropout_3[0][0]                  \n",
      "__________________________________________________________________________________________________\n",
      "dense_5 (Dense)                 (None, 128)          105600      concatenate_3[0][0]              \n",
      "__________________________________________________________________________________________________\n",
      "batch_normalization_6 (BatchNor (None, 128)          512         dense_5[0][0]                    \n",
      "__________________________________________________________________________________________________\n",
      "activation_6 (Activation)       (None, 128)          0           batch_normalization_6[0][0]      \n",
      "__________________________________________________________________________________________________\n",
      "dropout_4 (Dropout)             (None, 128)          0           activation_6[0][0]               \n",
      "__________________________________________________________________________________________________\n",
      "dense_6 (Dense)                 (None, 16)           2064        dropout_4[0][0]                  \n",
      "__________________________________________________________________________________________________\n",
      "batch_normalization_7 (BatchNor (None, 16)           64          dense_6[0][0]                    \n",
      "__________________________________________________________________________________________________\n",
      "activation_7 (Activation)       (None, 16)           0           batch_normalization_7[0][0]      \n",
      "__________________________________________________________________________________________________\n",
      "dropout_5 (Dropout)             (None, 16)           0           activation_7[0][0]               \n",
      "__________________________________________________________________________________________________\n",
      "dense_7 (Dense)                 (None, 1)            17          dropout_5[0][0]                  \n",
      "==================================================================================================\n",
      "Total params: 185,206,624\n",
      "Trainable params: 7,351,347\n",
      "Non-trainable params: 177,855,277\n",
      "__________________________________________________________________________________________________\n"
     ]
    }
   ],
   "source": [
    "# load model\n",
    "model = tf.keras.models.load_model('../models/best_model.hdf5', custom_objects={'KerasLayer':hub.KerasLayer,\n",
    "                                                                         'recall':recall,\n",
    "                                                                         'f1':f1})\n",
    "# summarize model.\n",
    "model.summary()"
   ]
  },
  {
   "cell_type": "code",
   "execution_count": 9,
   "metadata": {},
   "outputs": [
    {
     "name": "stdout",
     "output_type": "stream",
     "text": [
      "WARNING:tensorflow:From <ipython-input-9-6287fd86c79b>:3: Model.predict_generator (from tensorflow.python.keras.engine.training) is deprecated and will be removed in a future version.\n",
      "Instructions for updating:\n",
      "Please use Model.predict, which supports generators.\n"
     ]
    },
    {
     "name": "stderr",
     "output_type": "stream",
     "text": [
      "WARNING:tensorflow:From <ipython-input-9-6287fd86c79b>:3: Model.predict_generator (from tensorflow.python.keras.engine.training) is deprecated and will be removed in a future version.\n",
      "Instructions for updating:\n",
      "Please use Model.predict, which supports generators.\n"
     ]
    }
   ],
   "source": [
    "pred_test = model.predict_generator(\n",
    "    batch_generator(test_path, batch, test_iter), \n",
    "    steps=test_iter)"
   ]
  },
  {
   "cell_type": "code",
   "execution_count": 10,
   "metadata": {},
   "outputs": [],
   "source": [
    "true_test = np.zeros(len(pred_test))\n",
    "\n",
    "for i, xy in enumerate(batch_generator(test_path, batch, test_iter)):\n",
    "    true_test[i*batch:(i+1)*batch] = xy[1]\n",
    "    if i == test_iter-1:\n",
    "        break"
   ]
  },
  {
   "cell_type": "code",
   "execution_count": 11,
   "metadata": {},
   "outputs": [],
   "source": [
    "pred_test_label = (pred_test.flatten() >= 0.5)*1"
   ]
  },
  {
   "cell_type": "code",
   "execution_count": 12,
   "metadata": {},
   "outputs": [
    {
     "name": "stdout",
     "output_type": "stream",
     "text": [
      "accuracy: 0.8642665276042231\n",
      "recall: 0.72\n",
      "precision: 0.0039051200462829044\n",
      "f1: 0.007768107602675683\n"
     ]
    }
   ],
   "source": [
    "from sklearn.metrics import f1_score, precision_score, recall_score, accuracy_score\n",
    "print('accuracy:', accuracy_score(true_test, pred_test_label))\n",
    "print('recall:', recall_score(true_test, pred_test_label))\n",
    "print('precision:', precision_score(true_test, pred_test_label))\n",
    "print('f1:', f1_score(true_test, pred_test_label))"
   ]
  },
  {
   "cell_type": "markdown",
   "metadata": {},
   "source": [
    "On the test set, it produce a similar rate of recall and accuracy. On the other hand, precision and f1 are way lower than the validation set since it includes more negative targets as the following heatmap graph."
   ]
  },
  {
   "cell_type": "code",
   "execution_count": 14,
   "metadata": {},
   "outputs": [
    {
     "data": {
      "image/png": "[encoded data removed]",
      "text/plain": [
       "<Figure size 720x504 with 2 Axes>"
      ]
     },
     "metadata": {
      "needs_background": "light"
     },
     "output_type": "display_data"
    }
   ],
   "source": [
    "from sklearn.metrics import confusion_matrix\n",
    "import seaborn as sns\n",
    "import matplotlib.pyplot as plt\n",
    "\n",
    "plt.figure(figsize = (10,7))\n",
    "sns.heatmap(confusion_matrix(true_test, pred_test_label), cmap=plt.cm.Blues, annot=True)\n",
    "plt.show()"
   ]
  }
 ],
 "metadata": {
  "kernelspec": {
   "display_name": "Python 3",
   "language": "python",
   "name": "python3"
  },
  "language_info": {
   "codemirror_mode": {
    "name": "ipython",
    "version": 3
   },
   "file_extension": ".py",
   "mimetype": "text/x-python",
   "name": "python",
   "nbconvert_exporter": "python",
   "pygments_lexer": "ipython3",
   "version": "3.7.4"
  }
 },
 "nbformat": 4,
 "nbformat_minor": 2
}
